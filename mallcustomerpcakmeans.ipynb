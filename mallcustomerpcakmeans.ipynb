{
 "cells": [
  {
   "cell_type": "code",
   "execution_count": 1,
   "id": "0491903c",
   "metadata": {
    "_cell_guid": "b1076dfc-b9ad-4769-8c92-a6c4dae69d19",
    "_uuid": "8f2839f25d086af736a60e9eeb907d3b93b6e0e5",
    "execution": {
     "iopub.execute_input": "2023-07-03T06:37:04.837140Z",
     "iopub.status.busy": "2023-07-03T06:37:04.836660Z",
     "iopub.status.idle": "2023-07-03T06:37:06.872613Z",
     "shell.execute_reply": "2023-07-03T06:37:06.871205Z"
    },
    "papermill": {
     "duration": 2.047114,
     "end_time": "2023-07-03T06:37:06.875739",
     "exception": false,
     "start_time": "2023-07-03T06:37:04.828625",
     "status": "completed"
    },
    "tags": []
   },
   "outputs": [],
   "source": [
    "import numpy as np # linear algebra\n",
    "import pandas as pd # data processing, CSV file I/O (e.g. pd.read_csv)\n",
    "import matplotlib.pyplot as plt\n",
    "\n",
    "from sklearn.preprocessing import LabelEncoder\n",
    "from sklearn.preprocessing import StandardScaler\n",
    "\n",
    "from sklearn.cluster import KMeans\n",
    "from sklearn.decomposition import PCA"
   ]
  },
  {
   "cell_type": "code",
   "execution_count": 2,
   "id": "361baff0",
   "metadata": {
    "execution": {
     "iopub.execute_input": "2023-07-03T06:37:06.889448Z",
     "iopub.status.busy": "2023-07-03T06:37:06.889056Z",
     "iopub.status.idle": "2023-07-03T06:37:06.953193Z",
     "shell.execute_reply": "2023-07-03T06:37:06.951690Z"
    },
    "papermill": {
     "duration": 0.074349,
     "end_time": "2023-07-03T06:37:06.956274",
     "exception": false,
     "start_time": "2023-07-03T06:37:06.881925",
     "status": "completed"
    },
    "tags": []
   },
   "outputs": [
    {
     "data": {
      "text/html": [
       "<div>\n",
       "<style scoped>\n",
       "    .dataframe tbody tr th:only-of-type {\n",
       "        vertical-align: middle;\n",
       "    }\n",
       "\n",
       "    .dataframe tbody tr th {\n",
       "        vertical-align: top;\n",
       "    }\n",
       "\n",
       "    .dataframe thead th {\n",
       "        text-align: right;\n",
       "    }\n",
       "</style>\n",
       "<table border=\"1\" class=\"dataframe\">\n",
       "  <thead>\n",
       "    <tr style=\"text-align: right;\">\n",
       "      <th></th>\n",
       "      <th>CustomerID</th>\n",
       "      <th>Gender</th>\n",
       "      <th>Age</th>\n",
       "      <th>Annual Income (k$)</th>\n",
       "      <th>Spending Score (1-100)</th>\n",
       "    </tr>\n",
       "  </thead>\n",
       "  <tbody>\n",
       "    <tr>\n",
       "      <th>0</th>\n",
       "      <td>1</td>\n",
       "      <td>Male</td>\n",
       "      <td>19</td>\n",
       "      <td>15</td>\n",
       "      <td>39</td>\n",
       "    </tr>\n",
       "    <tr>\n",
       "      <th>1</th>\n",
       "      <td>2</td>\n",
       "      <td>Male</td>\n",
       "      <td>21</td>\n",
       "      <td>15</td>\n",
       "      <td>81</td>\n",
       "    </tr>\n",
       "    <tr>\n",
       "      <th>2</th>\n",
       "      <td>3</td>\n",
       "      <td>Female</td>\n",
       "      <td>20</td>\n",
       "      <td>16</td>\n",
       "      <td>6</td>\n",
       "    </tr>\n",
       "    <tr>\n",
       "      <th>3</th>\n",
       "      <td>4</td>\n",
       "      <td>Female</td>\n",
       "      <td>23</td>\n",
       "      <td>16</td>\n",
       "      <td>77</td>\n",
       "    </tr>\n",
       "    <tr>\n",
       "      <th>4</th>\n",
       "      <td>5</td>\n",
       "      <td>Female</td>\n",
       "      <td>31</td>\n",
       "      <td>17</td>\n",
       "      <td>40</td>\n",
       "    </tr>\n",
       "    <tr>\n",
       "      <th>...</th>\n",
       "      <td>...</td>\n",
       "      <td>...</td>\n",
       "      <td>...</td>\n",
       "      <td>...</td>\n",
       "      <td>...</td>\n",
       "    </tr>\n",
       "    <tr>\n",
       "      <th>195</th>\n",
       "      <td>196</td>\n",
       "      <td>Female</td>\n",
       "      <td>35</td>\n",
       "      <td>120</td>\n",
       "      <td>79</td>\n",
       "    </tr>\n",
       "    <tr>\n",
       "      <th>196</th>\n",
       "      <td>197</td>\n",
       "      <td>Female</td>\n",
       "      <td>45</td>\n",
       "      <td>126</td>\n",
       "      <td>28</td>\n",
       "    </tr>\n",
       "    <tr>\n",
       "      <th>197</th>\n",
       "      <td>198</td>\n",
       "      <td>Male</td>\n",
       "      <td>32</td>\n",
       "      <td>126</td>\n",
       "      <td>74</td>\n",
       "    </tr>\n",
       "    <tr>\n",
       "      <th>198</th>\n",
       "      <td>199</td>\n",
       "      <td>Male</td>\n",
       "      <td>32</td>\n",
       "      <td>137</td>\n",
       "      <td>18</td>\n",
       "    </tr>\n",
       "    <tr>\n",
       "      <th>199</th>\n",
       "      <td>200</td>\n",
       "      <td>Male</td>\n",
       "      <td>30</td>\n",
       "      <td>137</td>\n",
       "      <td>83</td>\n",
       "    </tr>\n",
       "  </tbody>\n",
       "</table>\n",
       "<p>200 rows × 5 columns</p>\n",
       "</div>"
      ],
      "text/plain": [
       "     CustomerID  Gender  Age  Annual Income (k$)  Spending Score (1-100)\n",
       "0             1    Male   19                  15                      39\n",
       "1             2    Male   21                  15                      81\n",
       "2             3  Female   20                  16                       6\n",
       "3             4  Female   23                  16                      77\n",
       "4             5  Female   31                  17                      40\n",
       "..          ...     ...  ...                 ...                     ...\n",
       "195         196  Female   35                 120                      79\n",
       "196         197  Female   45                 126                      28\n",
       "197         198    Male   32                 126                      74\n",
       "198         199    Male   32                 137                      18\n",
       "199         200    Male   30                 137                      83\n",
       "\n",
       "[200 rows x 5 columns]"
      ]
     },
     "execution_count": 2,
     "metadata": {},
     "output_type": "execute_result"
    }
   ],
   "source": [
    "df = pd.read_csv('/kaggle/input/customer-segmentation-tutorial-in-python/Mall_Customers.csv')\n",
    "df"
   ]
  },
  {
   "cell_type": "code",
   "execution_count": 3,
   "id": "8119099b",
   "metadata": {
    "execution": {
     "iopub.execute_input": "2023-07-03T06:37:06.971400Z",
     "iopub.status.busy": "2023-07-03T06:37:06.971014Z",
     "iopub.status.idle": "2023-07-03T06:37:06.978649Z",
     "shell.execute_reply": "2023-07-03T06:37:06.977366Z"
    },
    "papermill": {
     "duration": 0.018519,
     "end_time": "2023-07-03T06:37:06.981334",
     "exception": false,
     "start_time": "2023-07-03T06:37:06.962815",
     "status": "completed"
    },
    "tags": []
   },
   "outputs": [],
   "source": [
    "def preprocessing_inputs(df):\n",
    "    df = df.copy()\n",
    "    df = df.drop('CustomerID', axis = 1)\n",
    "    \n",
    "    encoder = LabelEncoder()\n",
    "    df['Gender'] = encoder.fit_transform(df['Gender'])\n",
    "    \n",
    "    scaler = StandardScaler()\n",
    "    df = pd.DataFrame(scaler.fit_transform(df), index = df.index, columns = df.columns)\n",
    "    \n",
    "    \n",
    "    return df"
   ]
  },
  {
   "cell_type": "code",
   "execution_count": 4,
   "id": "fb106090",
   "metadata": {
    "execution": {
     "iopub.execute_input": "2023-07-03T06:37:06.995732Z",
     "iopub.status.busy": "2023-07-03T06:37:06.995355Z",
     "iopub.status.idle": "2023-07-03T06:37:07.020369Z",
     "shell.execute_reply": "2023-07-03T06:37:07.019015Z"
    },
    "papermill": {
     "duration": 0.035298,
     "end_time": "2023-07-03T06:37:07.022976",
     "exception": false,
     "start_time": "2023-07-03T06:37:06.987678",
     "status": "completed"
    },
    "tags": []
   },
   "outputs": [
    {
     "data": {
      "text/html": [
       "<div>\n",
       "<style scoped>\n",
       "    .dataframe tbody tr th:only-of-type {\n",
       "        vertical-align: middle;\n",
       "    }\n",
       "\n",
       "    .dataframe tbody tr th {\n",
       "        vertical-align: top;\n",
       "    }\n",
       "\n",
       "    .dataframe thead th {\n",
       "        text-align: right;\n",
       "    }\n",
       "</style>\n",
       "<table border=\"1\" class=\"dataframe\">\n",
       "  <thead>\n",
       "    <tr style=\"text-align: right;\">\n",
       "      <th></th>\n",
       "      <th>Gender</th>\n",
       "      <th>Age</th>\n",
       "      <th>Annual Income (k$)</th>\n",
       "      <th>Spending Score (1-100)</th>\n",
       "    </tr>\n",
       "  </thead>\n",
       "  <tbody>\n",
       "    <tr>\n",
       "      <th>0</th>\n",
       "      <td>1.128152</td>\n",
       "      <td>-1.424569</td>\n",
       "      <td>-1.738999</td>\n",
       "      <td>-0.434801</td>\n",
       "    </tr>\n",
       "    <tr>\n",
       "      <th>1</th>\n",
       "      <td>1.128152</td>\n",
       "      <td>-1.281035</td>\n",
       "      <td>-1.738999</td>\n",
       "      <td>1.195704</td>\n",
       "    </tr>\n",
       "    <tr>\n",
       "      <th>2</th>\n",
       "      <td>-0.886405</td>\n",
       "      <td>-1.352802</td>\n",
       "      <td>-1.700830</td>\n",
       "      <td>-1.715913</td>\n",
       "    </tr>\n",
       "    <tr>\n",
       "      <th>3</th>\n",
       "      <td>-0.886405</td>\n",
       "      <td>-1.137502</td>\n",
       "      <td>-1.700830</td>\n",
       "      <td>1.040418</td>\n",
       "    </tr>\n",
       "    <tr>\n",
       "      <th>4</th>\n",
       "      <td>-0.886405</td>\n",
       "      <td>-0.563369</td>\n",
       "      <td>-1.662660</td>\n",
       "      <td>-0.395980</td>\n",
       "    </tr>\n",
       "    <tr>\n",
       "      <th>...</th>\n",
       "      <td>...</td>\n",
       "      <td>...</td>\n",
       "      <td>...</td>\n",
       "      <td>...</td>\n",
       "    </tr>\n",
       "    <tr>\n",
       "      <th>195</th>\n",
       "      <td>-0.886405</td>\n",
       "      <td>-0.276302</td>\n",
       "      <td>2.268791</td>\n",
       "      <td>1.118061</td>\n",
       "    </tr>\n",
       "    <tr>\n",
       "      <th>196</th>\n",
       "      <td>-0.886405</td>\n",
       "      <td>0.441365</td>\n",
       "      <td>2.497807</td>\n",
       "      <td>-0.861839</td>\n",
       "    </tr>\n",
       "    <tr>\n",
       "      <th>197</th>\n",
       "      <td>1.128152</td>\n",
       "      <td>-0.491602</td>\n",
       "      <td>2.497807</td>\n",
       "      <td>0.923953</td>\n",
       "    </tr>\n",
       "    <tr>\n",
       "      <th>198</th>\n",
       "      <td>1.128152</td>\n",
       "      <td>-0.491602</td>\n",
       "      <td>2.917671</td>\n",
       "      <td>-1.250054</td>\n",
       "    </tr>\n",
       "    <tr>\n",
       "      <th>199</th>\n",
       "      <td>1.128152</td>\n",
       "      <td>-0.635135</td>\n",
       "      <td>2.917671</td>\n",
       "      <td>1.273347</td>\n",
       "    </tr>\n",
       "  </tbody>\n",
       "</table>\n",
       "<p>200 rows × 4 columns</p>\n",
       "</div>"
      ],
      "text/plain": [
       "       Gender       Age  Annual Income (k$)  Spending Score (1-100)\n",
       "0    1.128152 -1.424569           -1.738999               -0.434801\n",
       "1    1.128152 -1.281035           -1.738999                1.195704\n",
       "2   -0.886405 -1.352802           -1.700830               -1.715913\n",
       "3   -0.886405 -1.137502           -1.700830                1.040418\n",
       "4   -0.886405 -0.563369           -1.662660               -0.395980\n",
       "..        ...       ...                 ...                     ...\n",
       "195 -0.886405 -0.276302            2.268791                1.118061\n",
       "196 -0.886405  0.441365            2.497807               -0.861839\n",
       "197  1.128152 -0.491602            2.497807                0.923953\n",
       "198  1.128152 -0.491602            2.917671               -1.250054\n",
       "199  1.128152 -0.635135            2.917671                1.273347\n",
       "\n",
       "[200 rows x 4 columns]"
      ]
     },
     "execution_count": 4,
     "metadata": {},
     "output_type": "execute_result"
    }
   ],
   "source": [
    "df = preprocessing_inputs(df)\n",
    "df"
   ]
  },
  {
   "cell_type": "code",
   "execution_count": 5,
   "id": "dc107b52",
   "metadata": {
    "execution": {
     "iopub.execute_input": "2023-07-03T06:37:07.037978Z",
     "iopub.status.busy": "2023-07-03T06:37:07.037458Z",
     "iopub.status.idle": "2023-07-03T06:37:11.342222Z",
     "shell.execute_reply": "2023-07-03T06:37:11.341042Z"
    },
    "papermill": {
     "duration": 4.315666,
     "end_time": "2023-07-03T06:37:11.345019",
     "exception": false,
     "start_time": "2023-07-03T06:37:07.029353",
     "status": "completed"
    },
    "tags": []
   },
   "outputs": [
    {
     "data": {
      "image/png": "[encoded data removed]",
      "text/plain": [
       "<Figure size 1000x600 with 1 Axes>"
      ]
     },
     "metadata": {},
     "output_type": "display_data"
    }
   ],
   "source": [
    "import seaborn as sns\n",
    "sns.set_style(\"darkgrid\")\n",
    "\n",
    "max_clusters = 50\n",
    "inertia_values = []\n",
    "\n",
    "k_values = range(1, max_clusters)\n",
    "for k in k_values:\n",
    "    kmeans = KMeans(n_clusters=k, n_init=10, random_state=42)\n",
    "    kmeans.fit(df)\n",
    "    inertia_values.append(kmeans.inertia_)\n",
    "\n",
    "plt.figure(figsize=(10, 6))\n",
    "sns.lineplot(x=k_values, y=inertia_values, marker='o')\n",
    "plt.xlabel('Number of Clusters (K)')\n",
    "plt.ylabel('Inertia')\n",
    "plt.title('Elbow Method for K-means Clustering')\n",
    "plt.xticks(range(0, max_clusters, 10))\n",
    "plt.show()"
   ]
  },
  {
   "cell_type": "code",
   "execution_count": 6,
   "id": "23563bc8",
   "metadata": {
    "execution": {
     "iopub.execute_input": "2023-07-03T06:37:11.360162Z",
     "iopub.status.busy": "2023-07-03T06:37:11.359747Z",
     "iopub.status.idle": "2023-07-03T06:37:11.417790Z",
     "shell.execute_reply": "2023-07-03T06:37:11.416871Z"
    },
    "papermill": {
     "duration": 0.068659,
     "end_time": "2023-07-03T06:37:11.420398",
     "exception": false,
     "start_time": "2023-07-03T06:37:11.351739",
     "status": "completed"
    },
    "tags": []
   },
   "outputs": [
    {
     "data": {
      "text/html": [
       "<style>#sk-container-id-1 {color: black;background-color: white;}#sk-container-id-1 pre{padding: 0;}#sk-container-id-1 div.sk-toggleable {background-color: white;}#sk-container-id-1 label.sk-toggleable__label {cursor: pointer;display: block;width: 100%;margin-bottom: 0;padding: 0.3em;box-sizing: border-box;text-align: center;}#sk-container-id-1 label.sk-toggleable__label-arrow:before {content: \"▸\";float: left;margin-right: 0.25em;color: #696969;}#sk-container-id-1 label.sk-toggleable__label-arrow:hover:before {color: black;}#sk-container-id-1 div.sk-estimator:hover label.sk-toggleable__label-arrow:before {color: black;}#sk-container-id-1 div.sk-toggleable__content {max-height: 0;max-width: 0;overflow: hidden;text-align: left;background-color: #f0f8ff;}#sk-container-id-1 div.sk-toggleable__content pre {margin: 0.2em;color: black;border-radius: 0.25em;background-color: #f0f8ff;}#sk-container-id-1 input.sk-toggleable__control:checked~div.sk-toggleable__content {max-height: 200px;max-width: 100%;overflow: auto;}#sk-container-id-1 input.sk-toggleable__control:checked~label.sk-toggleable__label-arrow:before {content: \"▾\";}#sk-container-id-1 div.sk-estimator input.sk-toggleable__control:checked~label.sk-toggleable__label {background-color: #d4ebff;}#sk-container-id-1 div.sk-label input.sk-toggleable__control:checked~label.sk-toggleable__label {background-color: #d4ebff;}#sk-container-id-1 input.sk-hidden--visually {border: 0;clip: rect(1px 1px 1px 1px);clip: rect(1px, 1px, 1px, 1px);height: 1px;margin: -1px;overflow: hidden;padding: 0;position: absolute;width: 1px;}#sk-container-id-1 div.sk-estimator {font-family: monospace;background-color: #f0f8ff;border: 1px dotted black;border-radius: 0.25em;box-sizing: border-box;margin-bottom: 0.5em;}#sk-container-id-1 div.sk-estimator:hover {background-color: #d4ebff;}#sk-container-id-1 div.sk-parallel-item::after {content: \"\";width: 100%;border-bottom: 1px solid gray;flex-grow: 1;}#sk-container-id-1 div.sk-label:hover label.sk-toggleable__label {background-color: #d4ebff;}#sk-container-id-1 div.sk-serial::before {content: \"\";position: absolute;border-left: 1px solid gray;box-sizing: border-box;top: 0;bottom: 0;left: 50%;z-index: 0;}#sk-container-id-1 div.sk-serial {display: flex;flex-direction: column;align-items: center;background-color: white;padding-right: 0.2em;padding-left: 0.2em;position: relative;}#sk-container-id-1 div.sk-item {position: relative;z-index: 1;}#sk-container-id-1 div.sk-parallel {display: flex;align-items: stretch;justify-content: center;background-color: white;position: relative;}#sk-container-id-1 div.sk-item::before, #sk-container-id-1 div.sk-parallel-item::before {content: \"\";position: absolute;border-left: 1px solid gray;box-sizing: border-box;top: 0;bottom: 0;left: 50%;z-index: -1;}#sk-container-id-1 div.sk-parallel-item {display: flex;flex-direction: column;z-index: 1;position: relative;background-color: white;}#sk-container-id-1 div.sk-parallel-item:first-child::after {align-self: flex-end;width: 50%;}#sk-container-id-1 div.sk-parallel-item:last-child::after {align-self: flex-start;width: 50%;}#sk-container-id-1 div.sk-parallel-item:only-child::after {width: 0;}#sk-container-id-1 div.sk-dashed-wrapped {border: 1px dashed gray;margin: 0 0.4em 0.5em 0.4em;box-sizing: border-box;padding-bottom: 0.4em;background-color: white;}#sk-container-id-1 div.sk-label label {font-family: monospace;font-weight: bold;display: inline-block;line-height: 1.2em;}#sk-container-id-1 div.sk-label-container {text-align: center;}#sk-container-id-1 div.sk-container {/* jupyter's `normalize.less` sets `[hidden] { display: none; }` but bootstrap.min.css set `[hidden] { display: none !important; }` so we also need the `!important` here to be able to override the default hidden behavior on the sphinx rendered scikit-learn.org. See: https://github.com/scikit-learn/scikit-learn/issues/21755 */display: inline-block !important;position: relative;}#sk-container-id-1 div.sk-text-repr-fallback {display: none;}</style><div id=\"sk-container-id-1\" class=\"sk-top-container\"><div class=\"sk-text-repr-fallback\"><pre>KMeans(n_clusters=10, n_init=10)</pre><b>In a Jupyter environment, please rerun this cell to show the HTML representation or trust the notebook. <br />On GitHub, the HTML representation is unable to render, please try loading this page with nbviewer.org.</b></div><div class=\"sk-container\" hidden><div class=\"sk-item\"><div class=\"sk-estimator sk-toggleable\"><input class=\"sk-toggleable__control sk-hidden--visually\" id=\"sk-estimator-id-1\" type=\"checkbox\" checked><label for=\"sk-estimator-id-1\" class=\"sk-toggleable__label sk-toggleable__label-arrow\">KMeans</label><div class=\"sk-toggleable__content\"><pre>KMeans(n_clusters=10, n_init=10)</pre></div></div></div></div></div>"
      ],
      "text/plain": [
       "KMeans(n_clusters=10, n_init=10)"
      ]
     },
     "execution_count": 6,
     "metadata": {},
     "output_type": "execute_result"
    }
   ],
   "source": [
    "kmeans = KMeans(n_clusters = 10, n_init = 10)\n",
    "kmeans.fit(df)"
   ]
  },
  {
   "cell_type": "code",
   "execution_count": 7,
   "id": "e7789be4",
   "metadata": {
    "execution": {
     "iopub.execute_input": "2023-07-03T06:37:11.438811Z",
     "iopub.status.busy": "2023-07-03T06:37:11.438193Z",
     "iopub.status.idle": "2023-07-03T06:37:11.446943Z",
     "shell.execute_reply": "2023-07-03T06:37:11.446163Z"
    },
    "papermill": {
     "duration": 0.019747,
     "end_time": "2023-07-03T06:37:11.449093",
     "exception": false,
     "start_time": "2023-07-03T06:37:11.429346",
     "status": "completed"
    },
    "tags": []
   },
   "outputs": [
    {
     "data": {
      "text/plain": [
       "array([9, 9, 4, 0, 4, 0, 4, 0, 1, 0, 1, 0, 4, 0, 4, 9, 4, 9, 1, 0, 9, 9,\n",
       "       4, 9, 4, 9, 4, 9, 4, 0, 1, 0, 1, 9, 4, 0, 4, 0, 4, 0, 5, 9, 1, 2,\n",
       "       4, 0, 5, 2, 2, 2, 5, 9, 2, 1, 5, 1, 5, 1, 2, 1, 1, 9, 5, 5, 1, 9,\n",
       "       5, 5, 9, 2, 1, 5, 5, 5, 1, 9, 5, 9, 2, 5, 1, 9, 1, 5, 2, 1, 5, 2,\n",
       "       2, 5, 5, 9, 1, 2, 2, 9, 5, 2, 1, 9, 2, 5, 1, 9, 1, 2, 5, 1, 1, 1,\n",
       "       1, 2, 2, 9, 2, 2, 5, 5, 5, 5, 9, 2, 2, 3, 2, 8, 6, 3, 1, 3, 6, 3,\n",
       "       2, 8, 6, 8, 7, 3, 6, 8, 7, 3, 2, 8, 6, 3, 6, 8, 7, 3, 6, 3, 7, 8,\n",
       "       7, 8, 6, 8, 6, 8, 5, 8, 6, 8, 6, 8, 6, 8, 7, 3, 6, 3, 6, 3, 7, 8,\n",
       "       6, 3, 6, 3, 7, 8, 6, 8, 7, 3, 7, 3, 7, 8, 7, 8, 6, 8, 7, 8, 7, 3,\n",
       "       6, 3], dtype=int32)"
      ]
     },
     "execution_count": 7,
     "metadata": {},
     "output_type": "execute_result"
    }
   ],
   "source": [
    "clusters = kmeans.predict(df)\n",
    "clusters"
   ]
  },
  {
   "cell_type": "code",
   "execution_count": 8,
   "id": "c6d152e4",
   "metadata": {
    "execution": {
     "iopub.execute_input": "2023-07-03T06:37:11.466014Z",
     "iopub.status.busy": "2023-07-03T06:37:11.465409Z",
     "iopub.status.idle": "2023-07-03T06:37:11.493749Z",
     "shell.execute_reply": "2023-07-03T06:37:11.492995Z"
    },
    "papermill": {
     "duration": 0.039474,
     "end_time": "2023-07-03T06:37:11.496005",
     "exception": false,
     "start_time": "2023-07-03T06:37:11.456531",
     "status": "completed"
    },
    "tags": []
   },
   "outputs": [
    {
     "data": {
      "text/html": [
       "<div>\n",
       "<style scoped>\n",
       "    .dataframe tbody tr th:only-of-type {\n",
       "        vertical-align: middle;\n",
       "    }\n",
       "\n",
       "    .dataframe tbody tr th {\n",
       "        vertical-align: top;\n",
       "    }\n",
       "\n",
       "    .dataframe thead th {\n",
       "        text-align: right;\n",
       "    }\n",
       "</style>\n",
       "<table border=\"1\" class=\"dataframe\">\n",
       "  <thead>\n",
       "    <tr style=\"text-align: right;\">\n",
       "      <th></th>\n",
       "      <th>PC1</th>\n",
       "      <th>PC2</th>\n",
       "    </tr>\n",
       "  </thead>\n",
       "  <tbody>\n",
       "    <tr>\n",
       "      <th>0</th>\n",
       "      <td>-0.406383</td>\n",
       "      <td>-0.520714</td>\n",
       "    </tr>\n",
       "    <tr>\n",
       "      <th>1</th>\n",
       "      <td>-1.427673</td>\n",
       "      <td>-0.367310</td>\n",
       "    </tr>\n",
       "    <tr>\n",
       "      <th>2</th>\n",
       "      <td>0.050761</td>\n",
       "      <td>-1.894068</td>\n",
       "    </tr>\n",
       "    <tr>\n",
       "      <th>3</th>\n",
       "      <td>-1.694513</td>\n",
       "      <td>-1.631908</td>\n",
       "    </tr>\n",
       "    <tr>\n",
       "      <th>4</th>\n",
       "      <td>-0.313108</td>\n",
       "      <td>-1.810483</td>\n",
       "    </tr>\n",
       "    <tr>\n",
       "      <th>...</th>\n",
       "      <td>...</td>\n",
       "      <td>...</td>\n",
       "    </tr>\n",
       "    <tr>\n",
       "      <th>195</th>\n",
       "      <td>-1.179572</td>\n",
       "      <td>1.324568</td>\n",
       "    </tr>\n",
       "    <tr>\n",
       "      <th>196</th>\n",
       "      <td>0.672751</td>\n",
       "      <td>1.221061</td>\n",
       "    </tr>\n",
       "    <tr>\n",
       "      <th>197</th>\n",
       "      <td>-0.723719</td>\n",
       "      <td>2.765010</td>\n",
       "    </tr>\n",
       "    <tr>\n",
       "      <th>198</th>\n",
       "      <td>0.767096</td>\n",
       "      <td>2.861930</td>\n",
       "    </tr>\n",
       "    <tr>\n",
       "      <th>199</th>\n",
       "      <td>-1.065015</td>\n",
       "      <td>3.137256</td>\n",
       "    </tr>\n",
       "  </tbody>\n",
       "</table>\n",
       "<p>200 rows × 2 columns</p>\n",
       "</div>"
      ],
      "text/plain": [
       "          PC1       PC2\n",
       "0   -0.406383 -0.520714\n",
       "1   -1.427673 -0.367310\n",
       "2    0.050761 -1.894068\n",
       "3   -1.694513 -1.631908\n",
       "4   -0.313108 -1.810483\n",
       "..        ...       ...\n",
       "195 -1.179572  1.324568\n",
       "196  0.672751  1.221061\n",
       "197 -0.723719  2.765010\n",
       "198  0.767096  2.861930\n",
       "199 -1.065015  3.137256\n",
       "\n",
       "[200 rows x 2 columns]"
      ]
     },
     "execution_count": 8,
     "metadata": {},
     "output_type": "execute_result"
    }
   ],
   "source": [
    "from sklearn.decomposition import PCA\n",
    "pca = PCA(n_components = 2)\n",
    "df = pd.DataFrame(pca.fit_transform(df), columns = ['PC1', 'PC2'])\n",
    "df"
   ]
  },
  {
   "cell_type": "code",
   "execution_count": 9,
   "id": "b5699193",
   "metadata": {
    "execution": {
     "iopub.execute_input": "2023-07-03T06:37:11.513502Z",
     "iopub.status.busy": "2023-07-03T06:37:11.512873Z",
     "iopub.status.idle": "2023-07-03T06:37:11.520322Z",
     "shell.execute_reply": "2023-07-03T06:37:11.519133Z"
    },
    "papermill": {
     "duration": 0.018882,
     "end_time": "2023-07-03T06:37:11.522625",
     "exception": false,
     "start_time": "2023-07-03T06:37:11.503743",
     "status": "completed"
    },
    "tags": []
   },
   "outputs": [
    {
     "data": {
      "text/plain": [
       "array([[-0.88640526, -0.96084556, -1.33087991,  1.17778643],\n",
       "       [ 1.12815215,  1.43505777, -0.45298304, -0.40195247],\n",
       "       [-0.88640526, -0.78153925, -0.12214217, -0.11957041],\n",
       "       [ 1.12815215, -0.39989994,  1.01344075,  1.26040667],\n",
       "       [-0.7425083 ,  0.16967696, -1.31640908, -1.1668652 ],\n",
       "       [-0.88640526,  1.09830638, -0.24158313, -0.04807901],\n",
       "       [ 1.12815215, -0.02700694,  0.96701244, -1.39716754],\n",
       "       [-0.88640526,  0.35421988,  1.24912183, -1.14745442],\n",
       "       [-0.88640526, -0.47793198,  0.97284787,  1.22158511],\n",
       "       [ 1.12815215, -0.97602698, -0.73705168,  0.41603773]])"
      ]
     },
     "execution_count": 9,
     "metadata": {},
     "output_type": "execute_result"
    }
   ],
   "source": [
    "kmeans.cluster_centers_"
   ]
  },
  {
   "cell_type": "code",
   "execution_count": 10,
   "id": "0130ff9b",
   "metadata": {
    "execution": {
     "iopub.execute_input": "2023-07-03T06:37:11.540539Z",
     "iopub.status.busy": "2023-07-03T06:37:11.539755Z",
     "iopub.status.idle": "2023-07-03T06:37:11.548334Z",
     "shell.execute_reply": "2023-07-03T06:37:11.547236Z"
    },
    "papermill": {
     "duration": 0.020413,
     "end_time": "2023-07-03T06:37:11.550850",
     "exception": false,
     "start_time": "2023-07-03T06:37:11.530437",
     "status": "completed"
    },
    "tags": []
   },
   "outputs": [
    {
     "data": {
      "text/plain": [
       "array([[ 2.00314751, -0.66157808],\n",
       "       [-1.29178751,  0.20457235],\n",
       "       [ 0.59291734, -0.56440454],\n",
       "       [ 0.452373  ,  1.96818892],\n",
       "       [-0.36693855, -1.67139671],\n",
       "       [-0.28247006, -0.96395187],\n",
       "       [-1.69840555,  0.84708368],\n",
       "       [-1.15521042, -0.46388989],\n",
       "       [ 1.11151102,  0.46632056],\n",
       "       [ 0.63486321,  0.83905559]])"
      ]
     },
     "execution_count": 10,
     "metadata": {},
     "output_type": "execute_result"
    }
   ],
   "source": [
    "reduced_centers = pca.fit_transform(kmeans.cluster_centers_)\n",
    "reduced_centers"
   ]
  },
  {
   "cell_type": "code",
   "execution_count": 11,
   "id": "d7d92600",
   "metadata": {
    "execution": {
     "iopub.execute_input": "2023-07-03T06:37:11.568602Z",
     "iopub.status.busy": "2023-07-03T06:37:11.568236Z",
     "iopub.status.idle": "2023-07-03T06:37:11.576482Z",
     "shell.execute_reply": "2023-07-03T06:37:11.575026Z"
    },
    "papermill": {
     "duration": 0.020207,
     "end_time": "2023-07-03T06:37:11.579107",
     "exception": false,
     "start_time": "2023-07-03T06:37:11.558900",
     "status": "completed"
    },
    "tags": []
   },
   "outputs": [
    {
     "data": {
      "text/plain": [
       "array([9, 9, 4, 0, 4, 0, 4, 0, 1, 0, 1, 0, 4, 0, 4, 9, 4, 9, 1, 0, 9, 9,\n",
       "       4, 9, 4, 9, 4, 9, 4, 0, 1, 0, 1, 9, 4, 0, 4, 0, 4, 0, 5, 9, 1, 2,\n",
       "       4, 0, 5, 2, 2, 2, 5, 9, 2, 1, 5, 1, 5, 1, 2, 1, 1, 9, 5, 5, 1, 9,\n",
       "       5, 5, 9, 2, 1, 5, 5, 5, 1, 9, 5, 9, 2, 5, 1, 9, 1, 5, 2, 1, 5, 2,\n",
       "       2, 5, 5, 9, 1, 2, 2, 9, 5, 2, 1, 9, 2, 5, 1, 9, 1, 2, 5, 1, 1, 1,\n",
       "       1, 2, 2, 9, 2, 2, 5, 5, 5, 5, 9, 2, 2, 3, 2, 8, 6, 3, 1, 3, 6, 3,\n",
       "       2, 8, 6, 8, 7, 3, 6, 8, 7, 3, 2, 8, 6, 3, 6, 8, 7, 3, 6, 3, 7, 8,\n",
       "       7, 8, 6, 8, 6, 8, 5, 8, 6, 8, 6, 8, 6, 8, 7, 3, 6, 3, 6, 3, 7, 8,\n",
       "       6, 3, 6, 3, 7, 8, 6, 8, 7, 3, 7, 3, 7, 8, 7, 8, 6, 8, 7, 8, 7, 3,\n",
       "       6, 3], dtype=int32)"
      ]
     },
     "execution_count": 11,
     "metadata": {},
     "output_type": "execute_result"
    }
   ],
   "source": [
    "clusters"
   ]
  },
  {
   "cell_type": "code",
   "execution_count": 12,
   "id": "d4f37f7f",
   "metadata": {
    "execution": {
     "iopub.execute_input": "2023-07-03T06:37:11.597459Z",
     "iopub.status.busy": "2023-07-03T06:37:11.596316Z",
     "iopub.status.idle": "2023-07-03T06:37:11.602091Z",
     "shell.execute_reply": "2023-07-03T06:37:11.601120Z"
    },
    "papermill": {
     "duration": 0.017504,
     "end_time": "2023-07-03T06:37:11.604621",
     "exception": false,
     "start_time": "2023-07-03T06:37:11.587117",
     "status": "completed"
    },
    "tags": []
   },
   "outputs": [],
   "source": [
    "df['cluster'] = clusters"
   ]
  },
  {
   "cell_type": "code",
   "execution_count": 13,
   "id": "633a6285",
   "metadata": {
    "execution": {
     "iopub.execute_input": "2023-07-03T06:37:11.622306Z",
     "iopub.status.busy": "2023-07-03T06:37:11.621938Z",
     "iopub.status.idle": "2023-07-03T06:37:11.636399Z",
     "shell.execute_reply": "2023-07-03T06:37:11.635193Z"
    },
    "papermill": {
     "duration": 0.025959,
     "end_time": "2023-07-03T06:37:11.638668",
     "exception": false,
     "start_time": "2023-07-03T06:37:11.612709",
     "status": "completed"
    },
    "tags": []
   },
   "outputs": [
    {
     "data": {
      "text/html": [
       "<div>\n",
       "<style scoped>\n",
       "    .dataframe tbody tr th:only-of-type {\n",
       "        vertical-align: middle;\n",
       "    }\n",
       "\n",
       "    .dataframe tbody tr th {\n",
       "        vertical-align: top;\n",
       "    }\n",
       "\n",
       "    .dataframe thead th {\n",
       "        text-align: right;\n",
       "    }\n",
       "</style>\n",
       "<table border=\"1\" class=\"dataframe\">\n",
       "  <thead>\n",
       "    <tr style=\"text-align: right;\">\n",
       "      <th></th>\n",
       "      <th>PC1</th>\n",
       "      <th>PC2</th>\n",
       "      <th>cluster</th>\n",
       "    </tr>\n",
       "  </thead>\n",
       "  <tbody>\n",
       "    <tr>\n",
       "      <th>0</th>\n",
       "      <td>-0.406383</td>\n",
       "      <td>-0.520714</td>\n",
       "      <td>9</td>\n",
       "    </tr>\n",
       "    <tr>\n",
       "      <th>1</th>\n",
       "      <td>-1.427673</td>\n",
       "      <td>-0.367310</td>\n",
       "      <td>9</td>\n",
       "    </tr>\n",
       "    <tr>\n",
       "      <th>2</th>\n",
       "      <td>0.050761</td>\n",
       "      <td>-1.894068</td>\n",
       "      <td>4</td>\n",
       "    </tr>\n",
       "    <tr>\n",
       "      <th>3</th>\n",
       "      <td>-1.694513</td>\n",
       "      <td>-1.631908</td>\n",
       "      <td>0</td>\n",
       "    </tr>\n",
       "    <tr>\n",
       "      <th>4</th>\n",
       "      <td>-0.313108</td>\n",
       "      <td>-1.810483</td>\n",
       "      <td>4</td>\n",
       "    </tr>\n",
       "    <tr>\n",
       "      <th>...</th>\n",
       "      <td>...</td>\n",
       "      <td>...</td>\n",
       "      <td>...</td>\n",
       "    </tr>\n",
       "    <tr>\n",
       "      <th>195</th>\n",
       "      <td>-1.179572</td>\n",
       "      <td>1.324568</td>\n",
       "      <td>8</td>\n",
       "    </tr>\n",
       "    <tr>\n",
       "      <th>196</th>\n",
       "      <td>0.672751</td>\n",
       "      <td>1.221061</td>\n",
       "      <td>7</td>\n",
       "    </tr>\n",
       "    <tr>\n",
       "      <th>197</th>\n",
       "      <td>-0.723719</td>\n",
       "      <td>2.765010</td>\n",
       "      <td>3</td>\n",
       "    </tr>\n",
       "    <tr>\n",
       "      <th>198</th>\n",
       "      <td>0.767096</td>\n",
       "      <td>2.861930</td>\n",
       "      <td>6</td>\n",
       "    </tr>\n",
       "    <tr>\n",
       "      <th>199</th>\n",
       "      <td>-1.065015</td>\n",
       "      <td>3.137256</td>\n",
       "      <td>3</td>\n",
       "    </tr>\n",
       "  </tbody>\n",
       "</table>\n",
       "<p>200 rows × 3 columns</p>\n",
       "</div>"
      ],
      "text/plain": [
       "          PC1       PC2  cluster\n",
       "0   -0.406383 -0.520714        9\n",
       "1   -1.427673 -0.367310        9\n",
       "2    0.050761 -1.894068        4\n",
       "3   -1.694513 -1.631908        0\n",
       "4   -0.313108 -1.810483        4\n",
       "..        ...       ...      ...\n",
       "195 -1.179572  1.324568        8\n",
       "196  0.672751  1.221061        7\n",
       "197 -0.723719  2.765010        3\n",
       "198  0.767096  2.861930        6\n",
       "199 -1.065015  3.137256        3\n",
       "\n",
       "[200 rows x 3 columns]"
      ]
     },
     "execution_count": 13,
     "metadata": {},
     "output_type": "execute_result"
    }
   ],
   "source": [
    "df"
   ]
  },
  {
   "cell_type": "code",
   "execution_count": 14,
   "id": "7fe038dd",
   "metadata": {
    "execution": {
     "iopub.execute_input": "2023-07-03T06:37:11.664075Z",
     "iopub.status.busy": "2023-07-03T06:37:11.663654Z",
     "iopub.status.idle": "2023-07-03T06:37:12.333616Z",
     "shell.execute_reply": "2023-07-03T06:37:12.332726Z"
    },
    "papermill": {
     "duration": 0.685981,
     "end_time": "2023-07-03T06:37:12.336055",
     "exception": false,
     "start_time": "2023-07-03T06:37:11.650074",
     "status": "completed"
    },
    "tags": []
   },
   "outputs": [
    {
     "data": {
      "image/png": "[encoded data removed]",
      "text/plain": [
       "<Figure size 1000x600 with 1 Axes>"
      ]
     },
     "metadata": {},
     "output_type": "display_data"
    }
   ],
   "source": [
    "sns.set_style(\"darkgrid\")\n",
    "plt.figure(figsize=(10, 6))\n",
    "\n",
    "# Create a scatter plot with different colors for each cluster\n",
    "sns.scatterplot(data=df, x='PC1', y='PC2', hue='cluster', palette='tab10')\n",
    "plt.scatter(reduced_centers[:, 0], reduced_centers[:, 1], color='black', marker='x', s=300)\n",
    "\n",
    "\n",
    "\n",
    "# Set labels and title\n",
    "plt.xlabel('PC1')\n",
    "plt.ylabel('PC2')\n",
    "plt.title('Clustering Scatter Plot')\n",
    "\n",
    "# Show the plot\n",
    "plt.show()"
   ]
  },
  {
   "cell_type": "code",
   "execution_count": null,
   "id": "1bf48d5c",
   "metadata": {
    "papermill": {
     "duration": 0.009171,
     "end_time": "2023-07-03T06:37:12.354727",
     "exception": false,
     "start_time": "2023-07-03T06:37:12.345556",
     "status": "completed"
    },
    "tags": []
   },
   "outputs": [],
   "source": []
  }
 ],
 "metadata": {
  "kernelspec": {
   "display_name": "Python 3",
   "language": "python",
   "name": "python3"
  },
  "language_info": {
   "codemirror_mode": {
    "name": "ipython",
    "version": 3
   },
   "file_extension": ".py",
   "mimetype": "text/x-python",
   "name": "python",
   "nbconvert_exporter": "python",
   "pygments_lexer": "ipython3",
   "version": "3.10.10"
  },
  "papermill": {
   "default_parameters": {},
   "duration": 20.625147,
   "end_time": "2023-07-03T06:37:13.386496",
   "environment_variables": {},
   "exception": null,
   "input_path": "__notebook__.ipynb",
   "output_path": "__notebook__.ipynb",
   "parameters": {},
   "start_time": "2023-07-03T06:36:52.761349",
   "version": "2.4.0"
  }
 },
 "nbformat": 4,
 "nbformat_minor": 5
}
